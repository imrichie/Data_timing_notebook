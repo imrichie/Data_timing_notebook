{
 "cells": [
  {
   "cell_type": "markdown",
   "metadata": {},
   "source": [
    "# Data Structures Timing, and Performance\n",
    "\n",
    "In this notebook I'm going to explore the performance of different data structures in 2 parts. In Part 1 I'm going to see how the time it takes to perform a membership check on lists, Part 2 check on sets and dicts. A \"membership check\" is what you do when you write code like:\n",
    "\n",
    "```python\n",
    "someList = [1,2,3]\n",
    "if 3 in someList:\n",
    "    # we just checked someList for membership\n",
    "    # of the element 3\n",
    "```"
   ]
  },
  {
   "cell_type": "markdown",
   "metadata": {},
   "source": [
    "# Part 1: Lists"
   ]
  },
  {
   "cell_type": "markdown",
   "metadata": {},
   "source": [
    "Let's explore the following two questions:\n",
    "\n",
    "1) When an element IS in a list, does the location of that element (near the beginning vs near the end) impact the time it takes to perform a membership check?\n",
    "\n",
    "2) When an element IS NOT in a list, does the size of the list impact the time it takes to perform a membership check?"
   ]
  },
  {
   "cell_type": "code",
   "execution_count": 85,
   "metadata": {
    "collapsed": true
   },
   "outputs": [],
   "source": [
    "# import dependencies\n",
    "import time\n",
    "import random\n",
    "from matplotlib import pyplot as plt"
   ]
  },
  {
   "cell_type": "code",
   "execution_count": 86,
   "metadata": {},
   "outputs": [
    {
     "data": {
      "text/plain": [
       "True"
      ]
     },
     "execution_count": 86,
     "metadata": {},
     "output_type": "execute_result"
    }
   ],
   "source": [
    "# Let's do a couple of test cases\n",
    "L = [1,2,3]\n",
    "2 in L"
   ]
  },
  {
   "cell_type": "code",
   "execution_count": 87,
   "metadata": {},
   "outputs": [
    {
     "data": {
      "text/plain": [
       "False"
      ]
     },
     "execution_count": 87,
     "metadata": {},
     "output_type": "execute_result"
    }
   ],
   "source": [
    "L = [1,2,3]\n",
    "4 in L"
   ]
  },
  {
   "cell_type": "markdown",
   "metadata": {},
   "source": [
    "## Question 1\n",
    "> Does position in list impact the time it takes to perform a membership test?\n",
    "\n",
    "First we're going to need to figure out how to do these timings..."
   ]
  },
  {
   "cell_type": "code",
   "execution_count": 88,
   "metadata": {},
   "outputs": [
    {
     "name": "stdout",
     "output_type": "stream",
     "text": [
      "[0, 1, 2, 3, 4, 5, 6, 7, 8, 9]\n"
     ]
    }
   ],
   "source": [
    "# let's make a small list to begin with\n",
    "L = list(range(10))\n",
    "print(L)"
   ]
  },
  {
   "cell_type": "code",
   "execution_count": 89,
   "metadata": {},
   "outputs": [
    {
     "name": "stdout",
     "output_type": "stream",
     "text": [
      "0.06299999999725969 milliseconds to find 0 in list\n"
     ]
    }
   ],
   "source": [
    "# now let's time how long it takes to check for \n",
    "# membership of the very first element (0)...\n",
    "\n",
    "startTime = time.clock()\n",
    "\n",
    "0 in L\n",
    "\n",
    "endTime =   time.clock()\n",
    "milliseconds = (endTime - startTime) * 1000\n",
    "\n",
    "print(milliseconds, \"milliseconds to find 0 in list\")"
   ]
  },
  {
   "cell_type": "code",
   "execution_count": 90,
   "metadata": {},
   "outputs": [
    {
     "name": "stdout",
     "output_type": "stream",
     "text": [
      "on average, it took 0.016204000000001884 ms per membership test\n"
     ]
    }
   ],
   "source": [
    "# Run the above code a few times. You should notice that the time\n",
    "# can change quite a bit. What we actually want is to conduct\n",
    "# this experiment a bunch of times and find the average. \n",
    "\n",
    "\n",
    "L = list(range(1000)) # use a bigger list\n",
    "element = 500         # look in the middle of the list\n",
    "numTrials = 1000      # perform experiment many times\n",
    "\n",
    "start = time.clock()\n",
    "for _ in range(numTrials):\n",
    "    element in L\n",
    "end = time.clock()\n",
    "avgMillis = (end-start) * 1000/numTrials\n",
    "print(\"on average, it took\", avgMillis, \"ms per membership test\")"
   ]
  },
  {
   "cell_type": "code",
   "execution_count": 91,
   "metadata": {},
   "outputs": [
    {
     "name": "stdout",
     "output_type": "stream",
     "text": [
      "on average, it took 0.008149999999673696 ms per membership test\n"
     ]
    }
   ],
   "source": [
    "# That's a useful bit of code! \n",
    "# Let's generalize it and turn it into a reusable function\n",
    "\n",
    "def avgCheck(element, target_list, N=20):\n",
    "    start = time.clock()\n",
    "    for _ in range(N):\n",
    "        element in target_list\n",
    "    end = time.clock()\n",
    "    return (end-start)*1000 / N\n",
    "\n",
    "avgMillis = avgCheck(500, list(range(1000)))\n",
    "print(\"on average, it took\", avgMillis, \"ms per membership test\")"
   ]
  },
  {
   "cell_type": "code",
   "execution_count": 92,
   "metadata": {},
   "outputs": [
    {
     "name": "stdout",
     "output_type": "stream",
     "text": [
      "beginning:  0.030800000000041905\n",
      "middle:     9.161200000000136\n",
      "end:        18.766749999999988\n"
     ]
    }
   ],
   "source": [
    "# now we can compare time to lookup low numbers (near the \n",
    "# beginning of the list) vs higher numbers (near the end).\n",
    "\n",
    "# Let's use a really big list this time\n",
    "L = list(range(1000000))\n",
    "\n",
    "# Now make three separate timings...\n",
    "beginning = avgCheck(1000, L)\n",
    "middle    = avgCheck(500000, L)\n",
    "end       = avgCheck(999999, L)\n",
    "\n",
    "print(\"beginning: \", beginning)\n",
    "print(\"middle:    \", middle)\n",
    "print(\"end:       \", end)"
   ]
  },
  {
   "cell_type": "markdown",
   "metadata": {},
   "source": [
    "So this is really interesting! There's clearly a relationship. Let's see if we can dig deeper though and use a scatter plot showing average time vs position"
   ]
  },
  {
   "cell_type": "code",
   "execution_count": 93,
   "metadata": {},
   "outputs": [
    {
     "name": "stdout",
     "output_type": "stream",
     "text": [
      "positions checked: [0, 10000, 20000, 30000, 40000, 50000, 60000, 70000, 80000, 90000]\n",
      "average millis:    [0.00029999999995311555, 0.2195000000000391, 0.41984999999975514, 0.5303500000000128, 0.7829499999999712, 1.1725499999997169, 1.1942999999998705, 1.3263999999999498, 1.3035999999999603, 1.495750000000129]\n"
     ]
    }
   ],
   "source": [
    "# Making a scatter plot of position in list (X-axis)\n",
    "# vs. average time to find element (y-axis)\n",
    "\n",
    "listSize = 100000\n",
    "L = list(range(listSize))\n",
    "\n",
    "# check between start and end in increments of 10000. This will\n",
    "# be our X axis too!\n",
    "positions = list(range(0, listSize, 10000))\n",
    "\n",
    "# use list comprehension to generate Y-axis data!\n",
    "millis = [avgCheck(pos, L) for pos in positions]\n",
    "\n",
    "# first, let's look at the raw data\n",
    "print(\"positions checked:\", positions)\n",
    "print(\"average millis:   \", millis)"
   ]
  },
  {
   "cell_type": "code",
   "execution_count": 94,
   "metadata": {},
   "outputs": [
    {
     "data": {
      "image/png": "[encoded data removed]",
      "text/plain": [
       "<matplotlib.figure.Figure at 0x11ca45cf8>"
      ]
     },
     "metadata": {},
     "output_type": "display_data"
    }
   ],
   "source": [
    "# now let's make the scatter plot!\n",
    "X = positions \n",
    "Y = millis\n",
    "plt.scatter(X, Y)\n",
    "plt.title(\"Membership Test Time\\nvs Position in List\")\n",
    "plt.xlabel(\"Position in List\")\n",
    "plt.ylabel(\"Average # of millis / test\")\n",
    "plt.show()"
   ]
  },
  {
   "cell_type": "markdown",
   "metadata": {},
   "source": [
    "### Answer to Question 1\n",
    "Yes! Where an element is in a list **definitely** impacts how long it takes to discover that the element exists in the list!\n",
    "\n",
    "Elements near the beginning of a list are found very quickly. Elements near the end of the list take longer. "
   ]
  },
  {
   "cell_type": "markdown",
   "metadata": {},
   "source": [
    "## Question 2 \n",
    "> Does the size of a list impact the time it takes to test for membership of elements when they are NOT in the list?"
   ]
  },
  {
   "cell_type": "code",
   "execution_count": 95,
   "metadata": {
    "collapsed": true
   },
   "outputs": [],
   "source": [
    "# Let's jump right into writing a function\n",
    "\n",
    "def avgCheckFalse(listSize, numTrials=20):\n",
    "    # prepare list and nonexistent element\n",
    "    L = list(range(listSize))\n",
    "    element = -1\n",
    "    \n",
    "    # start the timer\n",
    "    start = time.clock()\n",
    "    \n",
    "    # repeat membership test num_trials times\n",
    "    for _ in range(numTrials):\n",
    "        element in L\n",
    "    \n",
    "    # stop the timer\n",
    "    end = time.clock()\n",
    "    \n",
    "    # do the math and return the result\n",
    "    avgMillis = (end-start) * 1000 / numTrials\n",
    "    return avgMillis"
   ]
  },
  {
   "cell_type": "code",
   "execution_count": 96,
   "metadata": {},
   "outputs": [
    {
     "name": "stdout",
     "output_type": "stream",
     "text": [
      "small:  0.1304000000001082\n",
      "medium: 2.381549999999777\n",
      "large:  20.299900000000193\n"
     ]
    }
   ],
   "source": [
    "# Let's check lists of different sizes\n",
    "small  = 10000\n",
    "medium = 100000\n",
    "large  = 1000000\n",
    "\n",
    "small  = avgCheckFalse(small)\n",
    "medium = avgCheckFalse(medium)\n",
    "large  = avgCheckFalse(large)\n",
    "\n",
    "print(\"small: \", small)\n",
    "print(\"medium:\", medium)\n",
    "print(\"large: \", large)"
   ]
  },
  {
   "cell_type": "markdown",
   "metadata": {},
   "source": [
    "Once again, we see that there IS a relationship... \n",
    "\n",
    "Let's make another scatter plot."
   ]
  },
  {
   "cell_type": "code",
   "execution_count": 97,
   "metadata": {},
   "outputs": [
    {
     "data": {
      "image/png": "[encoded data removed]",
      "text/plain": [
       "<matplotlib.figure.Figure at 0x113d04240>"
      ]
     },
     "metadata": {},
     "output_type": "display_data"
    }
   ],
   "source": [
    "sizes = list(range(100000, 1000000, 100000))\n",
    "times = [avgCheckFalse(s) for s in sizes]\n",
    "plt.scatter(sizes, times)\n",
    "plt.xlabel(\"List Size\")\n",
    "plt.ylabel(\"Avg Millis\")\n",
    "plt.show()"
   ]
  },
  {
   "cell_type": "markdown",
   "metadata": {},
   "source": [
    "### Answer to Question 2\n",
    "Yes! When checking for membership of an element in a list, it takes longer to figure out an element **doesn't** exist in that list when the list is big."
   ]
  },
  {
   "cell_type": "markdown",
   "metadata": {},
   "source": [
    "# Part 2: Sets and Dictionaries"
   ]
  },
  {
   "cell_type": "markdown",
   "metadata": {},
   "source": [
    "### Feel the *slowness*\n",
    "\n",
    "We just *saw* the slowness of lists. As a list gets bigger it takes longer and longer to perform membership tests.\n",
    "\n",
    "But you can *feel* the slowness too. I'm going to compare how long it takes to run the next two cells."
   ]
  },
  {
   "cell_type": "code",
   "execution_count": 98,
   "metadata": {},
   "outputs": [
    {
     "name": "stdout",
     "output_type": "stream",
     "text": [
      "Execution complete! That took 1.2279999999975644 milliseconds\n"
     ]
    }
   ],
   "source": [
    "# SMALL list test\n",
    "\n",
    "small = list(range(10)) # ten element list of integers\n",
    "falseElement = -1\n",
    "numTrials = 5000\n",
    "\n",
    "start = time.clock()\n",
    "for _ in range(numTrials):\n",
    "    falseElement in small\n",
    "\n",
    "end = time.clock()\n",
    "millis = (end-start) * 1000\n",
    "print(\"Execution complete! That took\", millis, \"milliseconds\")"
   ]
  },
  {
   "cell_type": "code",
   "execution_count": 99,
   "metadata": {},
   "outputs": [
    {
     "name": "stdout",
     "output_type": "stream",
     "text": [
      "Execution complete! That took 7115.2689999999975 milliseconds\n"
     ]
    }
   ],
   "source": [
    "# BIG list test\n",
    "\n",
    "big = list(range(100000)) # 100K element list of integers\n",
    "falseElement = -1\n",
    "numTrials = 5000\n",
    "\n",
    "start = time.clock()\n",
    "for _ in range(numTrials):\n",
    "    falseElement in big\n",
    "\n",
    "end = time.clock()\n",
    "millis = (end-start) * 1000\n",
    "print(\"Execution complete! That took\", millis, \"milliseconds\")"
   ]
  },
  {
   "cell_type": "markdown",
   "metadata": {},
   "source": [
    "That was **boring**\n",
    "\n",
    "Waiting for code to execute (even if it only takes a few seconds) is annoying... and depending what you are testing, building or analyzing could be harmful\n",
    "\n",
    "Fortunatly, we can speed things up **a lot** by choosing the right data structure."
   ]
  },
  {
   "cell_type": "markdown",
   "metadata": {},
   "source": [
    "### Feel the *speed*\n",
    "\n",
    "Next I'll do the EXACT same thing as the code cells above except they use `set` instead of `list` in that first line."
   ]
  },
  {
   "cell_type": "code",
   "execution_count": 100,
   "metadata": {},
   "outputs": [
    {
     "name": "stdout",
     "output_type": "stream",
     "text": [
      "Execution complete! That took 0.6470000000007303 milliseconds\n"
     ]
    }
   ],
   "source": [
    "# SMALL set test\n",
    "\n",
    "smallSet = set(range(10)) # ten element list of integers\n",
    "falseElement = -1\n",
    "numTrials = 5000\n",
    "\n",
    "start = time.clock()\n",
    "for _ in range(numTrials):\n",
    "    falseElement in smallSet\n",
    "\n",
    "end = time.clock()\n",
    "millis = (end-start) * 1000\n",
    "print(\"Execution complete! That took\", millis, \"milliseconds\")"
   ]
  },
  {
   "cell_type": "markdown",
   "metadata": {},
   "source": [
    "### Drum roll please!\n",
    "\n",
    "Remember how *painfully slow* the big list was? Well hold on to your seat!"
   ]
  },
  {
   "cell_type": "code",
   "execution_count": 101,
   "metadata": {},
   "outputs": [
    {
     "name": "stdout",
     "output_type": "stream",
     "text": [
      "Execution complete! That took 0.8179999999953225 milliseconds\n"
     ]
    }
   ],
   "source": [
    "# BIG set test\n",
    "\n",
    "bigSet = set(range(100000)) # 100K element list of integers\n",
    "falseElement = -1\n",
    "numTrials = 5000\n",
    "\n",
    "start = time.clock()\n",
    "for _ in range(numTrials):\n",
    "    falseElement in bigSet\n",
    "\n",
    "end = time.clock()\n",
    "millis = (end-start) * 1000\n",
    "print(\"Execution complete! That took\", millis, \"milliseconds\")"
   ]
  },
  {
   "cell_type": "code",
   "execution_count": 102,
   "metadata": {
    "collapsed": true
   },
   "outputs": [],
   "source": [
    "def testSpeed(dataType, size, N=50):\n",
    "    if dataType != dict:\n",
    "        structure = dataType(range(size))\n",
    "    else:\n",
    "        structure = {num: \"value\" for num in range(size)}\n",
    "    falseElement = -1\n",
    "    \n",
    "    start = time.clock()\n",
    "    for _ in range(N):\n",
    "        falseElement in structure\n",
    "    end = time.clock()\n",
    "    \n",
    "    millis = (end-start) * 1000\n",
    "    return millis    "
   ]
  },
  {
   "cell_type": "code",
   "execution_count": 103,
   "metadata": {},
   "outputs": [
    {
     "data": {
      "text/plain": [
       "0.11800000000050659"
      ]
     },
     "execution_count": 103,
     "metadata": {},
     "output_type": "execute_result"
    }
   ],
   "source": [
    "# set test\n",
    "testSpeed(set, 100000, N=1000)"
   ]
  },
  {
   "cell_type": "code",
   "execution_count": 104,
   "metadata": {},
   "outputs": [
    {
     "data": {
      "text/plain": [
       "1653.4240000000011"
      ]
     },
     "execution_count": 104,
     "metadata": {},
     "output_type": "execute_result"
    }
   ],
   "source": [
    "# list test\n",
    "testSpeed(list, 100000, N=1000)"
   ]
  },
  {
   "cell_type": "code",
   "execution_count": 105,
   "metadata": {},
   "outputs": [
    {
     "data": {
      "text/plain": [
       "0.07200000000295859"
      ]
     },
     "execution_count": 105,
     "metadata": {},
     "output_type": "execute_result"
    }
   ],
   "source": [
    "# dictionary test\n",
    "testSpeed(dict, 100000, N=1000)"
   ]
  },
  {
   "cell_type": "code",
   "execution_count": 106,
   "metadata": {},
   "outputs": [
    {
     "data": {
      "image/png": "[encoded data removed]",
      "text/plain": [
       "<matplotlib.figure.Figure at 0x110a11358>"
      ]
     },
     "metadata": {},
     "output_type": "display_data"
    }
   ],
   "source": [
    "sizes = list(range(0, 500000, 25000))\n",
    "listSpeed = [testSpeed(list, size) for size in sizes]\n",
    "setSpeed  = [testSpeed(set,  size) for size in sizes]\n",
    "dictSpeed = [testSpeed(dict, size) for size in sizes]\n",
    "\n",
    "plt.scatter(sizes, listSpeed, c='g', marker=\"o\") #green circle\n",
    "plt.scatter(sizes, setSpeed,  c='r', marker=\"D\") #red diamond\n",
    "plt.scatter(sizes, dictSpeed, c='b', marker=\"*\") #blue star\n",
    "\n",
    "plt.xlabel(\"Data Structure Size\")\n",
    "plt.ylabel(\"Total Time (ms)\")\n",
    "plt.legend([\"List\", \"Set\", \"Dictionary\"])\n",
    "plt.title(\"Comparing Membership Testing Times\")\n",
    "plt.show()"
   ]
  },
  {
   "cell_type": "markdown",
   "metadata": {},
   "source": [
    "The time it takes to test for membership in a list \"scales linearly\" with the size of the list and constant time for sets and dictionaries. Simply put if you double the size of the list you double the amount of time it takes to test for membership of an element (on average)."
   ]
  },
  {
   "cell_type": "code",
   "execution_count": null,
   "metadata": {
    "collapsed": true
   },
   "outputs": [],
   "source": []
  }
 ],
 "metadata": {
  "kernelspec": {
   "display_name": "Python 3",
   "language": "python",
   "name": "python3"
  },
  "language_info": {
   "codemirror_mode": {
    "name": "ipython",
    "version": 3
   },
   "file_extension": ".py",
   "mimetype": "text/x-python",
   "name": "python",
   "nbconvert_exporter": "python",
   "pygments_lexer": "ipython3",
   "version": "3.6.2"
  }
 },
 "nbformat": 4,
 "nbformat_minor": 2
}
